{
 "cells": [
  {
   "cell_type": "markdown",
   "metadata": {},
   "source": [
    "<span style=\"font-size: 36px;\">__Machine Learning Workshp 3 : Regression Analysis__.</span>\n",
    "<br>\n",
    "<br>\n",
    "<div style=\"text-align: center;\">\n",
    "<span style=\"font-size: 22px;\"> Welecome to our third workshop! </span> </div>\n",
    "\n",
    "It consists of four tasks of advancing difficulty.\n",
    "Please devote approximately 15 minutes per task Prior to each task we will discuss some theoretical aspects regarding single and multiple linear regression, polynomial regression as well as how to select the optimal regression models and perform hyperparameters tuning. We will explain the details of the Python functions and libraries that we will use."
   ]
  },
  {
   "cell_type": "markdown",
   "metadata": {},
   "source": [
    "<span style=\"font-size: 36px;\">__Table of Contents__</span>\n",
    "1. [Background: To know our data better](#Background:-To-know-our-data-better)\n",
    "1. [Exercise 1](#Exercise-1:-Simple-Linear-Regression-Analysis)\n",
    "1. [Background: Residuals](#Background:-Residuals)\n",
    "1. [Exercise 2](#Exercise-2:-Multiple-Linear-Regression-Analysis)\n",
    "1. [Background: Detect Missing Values](#Background:-Detect-Missing-Values)\n",
    "1. [Background: Transformation of Categorical Variables](#Background:-Transformation-of-Categorical-Variables)\n",
    "1. [Background: Scaling the data](#Background:-Scaling-the-data)\n",
    "1. [References](#References)"
   ]
  },
  {
   "cell_type": "markdown",
   "metadata": {},
   "source": [
    "# Background: To know our data better\n",
    "Firstly, we start by importing our libraries. These are usually the following:\n",
    "1. numpy\n",
    "2. pandas\n",
    "3. matplotlib.pyplot\n",
    "4. seaborn\n",
    "\n",
    "Then, we read the dataset using __pandas__ and do some basic explorations on it:\n",
    "<br>\n",
    "1. The ```df.head()``` returns the first __n rows__ for the given DataFrame(). This function is useful for __quickly testing__ if your object has the __right type of data__ in it.\n",
    "<br>\n",
    "1. The ```df.describe()``` generates __descriptive statistics__ for the given DataFrame. These __summarize__ the __central tendency, dispersion and shape__ of a dataset's distribution, excluding __NaN__ values.\n",
    "1. The __[seaborn](https://seaborn.pydata.org/)__ is a Python data visualization library based on __matplotlib__. It provides a __high-level interface__ for drawing attractive and informative statistical graphics. Its __[User Guide](https://seaborn.pydata.org/tutorial.html)__ may be found here.\n",
    "1. The __[seaborn.set_style(style,rc)](https://seaborn.pydata.org/generated/seaborn.set_style.html)__ sets the parameters that __control the general style of the plots__ such as the __background color__ and whether a __grid is enabled__ by default:\n",
    "```python\n",
    "sns.set_style(\"darkgrid\", {\"grid.color\": \".6\", \"grid.linestyle\": \":\"})\n",
    "sns.lineplot(x=[\"A\", \"B\", \"C\"], y=[1, 3, 2])\n",
    "```\n",
    "1. The __[seaborn.kdeplot](https://seaborn.pydata.org/generated/seaborn.kdeplot.html)__ plots univariate or bivariate distributions using kernel density estimation. A __Kernel Density Estimation (KDE)__ plot is a method for visualizing the distribution of observations in a dataset, __analogous__ to a histogram. It __represents__ the data using a __continuous probability density curve__ in __one__ or __more__ dimensions. To plot a __univariate distribution__ along the x axis: \n",
    "```python\n",
    "import seaborn as sns\n",
    "tips = sns.load_dataset(\"tips\")\n",
    "sns.kdeplot(data=tips, x=\"total_bill\")\n",
    "```\n",
    "To plot distributions for each column of a wide-form dataset:\n",
    "```python\n",
    "iris = sns.load_dataset(\"iris\")\n",
    "sns.kdeplot(data=iris)\n",
    "```\n",
    "To plot conditional distributions with __hue mapping__ of a second variable:\n",
    "``` python\n",
    "sns.kdeplot(data=tips, x=\"total_bill\", hue=\"time\")\n",
    "```\n",
    "To __\"stack\"__ the conditional distributions:\n",
    "```python\n",
    "sns.kdeplot(data=tips, x=\"total_bill\", hue=\"time\",multiple=\"stack\")\n",
    "```\n",
    "1. The __[pandas.DataFrame.corr](https://pandas.pydata.org/docs/reference/api/pandas.DataFrame.corr.html)__ scomputes pairwise correlation of columns, excluding NA/null values. The __correlation method__ is by default the __'pearson'__ but may change either to __'kendall'__ or to __'spearman'__. It returns a __float ndarray__. It has __'1's__ along the __diagonal line__ and will be __symmetric__ regardless of the callable's behavior. In its __simplest form__ you may call it as ```df.corr()```.\n",
    "1. The __[seaborn.heatmap](https://seaborn.pydata.org/generated/seaborn.heatmap.html)__ plots rectangular data as a __color encoded matrix__. The __data parameter__ is a 2D dataset that can be coerced into an ndarray, If a __Pandas DataFrame__ is provided, the __index/column__ information will be used to __label__ the columns and rows. If __annot=True__, then write the __value__ to annotate the heatmap. The __cmap parameter__ is used to __perform the mapping__ from data values to colorspace. An example may be the following:\n",
    "```python\n",
    "sns.heatmap(df.corr(),annot=True,cmap='coolwarm')\n",
    "```"
   ]
  },
  {
   "cell_type": "markdown",
   "metadata": {},
   "source": [
    "# Exercise 1: Simple Linear Regression Analysis\n",
    "In this exercise we will work the csv file 'USA_Housing.csv', which contains some factors __(independent variables)__.\n",
    "These are used to predict the __dependent variable__, which is the house price. You should do the following:\n",
    "1. Firstly read the dataset and import it to your Jupyter Notebook as a Pandas DataFrame. Then perform an initial checking regarding its shape and return the first 7 rows.\n",
    "1. If everything is fine, then present the standard descriptive statistics. Please pay attention to the values and try to __\"understand\"__ your data. This is the __art of a machine learning expert__ that will guide you towards the __top of the AI scientists__!\n",
    "1. Select a __predictor / independent variable__ that you think is the best one and __visualize__ it __in association with__ the dependent variable. What do you observe? Is it really a descriptive one?\n",
    "1. Then verify whether the __output variable__ follows a __normal distribution__ by using the ```seaborn.kdeplot()``` function.\n",
    "1. __Compute the correllation__ among all the pairs formed by the predictors and the dependent variables and visualize them through a __heatmap__.\n",
    "1. Can you compare the heatmap information with your previous choice of the __best predictor__. Please revise/update your selection accordingly and perform a simple linear regression analysis with __train_test_split__.\n",
    "1. Print the regression analysis coefficients.\n",
    "1. Evaluate your analysis through the __Mean Absolute Error__, the __Root Mean Squared Error__ and the __Coefficient of Determination__."
   ]
  },
  {
   "cell_type": "code",
   "execution_count": 23,
   "metadata": {},
   "outputs": [],
   "source": [
    "import pandas as pd\n",
    "import numpy as np\n",
    "import matplotlib.pyplot as plt\n",
    "import seaborn as sns"
   ]
  },
  {
   "cell_type": "code",
   "execution_count": 24,
   "metadata": {},
   "outputs": [],
   "source": [
    "housing_data = pd.read_csv('USA_Housing.csv')"
   ]
  },
  {
   "cell_type": "code",
   "execution_count": 82,
   "metadata": {},
   "outputs": [
    {
     "data": {
      "text/html": [
       "<div>\n",
       "<style scoped>\n",
       "    .dataframe tbody tr th:only-of-type {\n",
       "        vertical-align: middle;\n",
       "    }\n",
       "\n",
       "    .dataframe tbody tr th {\n",
       "        vertical-align: top;\n",
       "    }\n",
       "\n",
       "    .dataframe thead th {\n",
       "        text-align: right;\n",
       "    }\n",
       "</style>\n",
       "<table border=\"1\" class=\"dataframe\">\n",
       "  <thead>\n",
       "    <tr style=\"text-align: right;\">\n",
       "      <th></th>\n",
       "      <th>Avg. Area Income</th>\n",
       "      <th>Avg. Area House Age</th>\n",
       "      <th>Avg. Area Number of Rooms</th>\n",
       "      <th>Avg. Area Number of Bedrooms</th>\n",
       "      <th>Area Population</th>\n",
       "      <th>Price</th>\n",
       "      <th>Address</th>\n",
       "    </tr>\n",
       "  </thead>\n",
       "  <tbody>\n",
       "    <tr>\n",
       "      <th>0</th>\n",
       "      <td>79545.458574</td>\n",
       "      <td>5.682861</td>\n",
       "      <td>7.009188</td>\n",
       "      <td>4.09</td>\n",
       "      <td>23086.800503</td>\n",
       "      <td>1.059034e+06</td>\n",
       "      <td>208 Michael Ferry Apt. 674\\nLaurabury, NE 3701...</td>\n",
       "    </tr>\n",
       "    <tr>\n",
       "      <th>1</th>\n",
       "      <td>79248.642455</td>\n",
       "      <td>6.002900</td>\n",
       "      <td>6.730821</td>\n",
       "      <td>3.09</td>\n",
       "      <td>40173.072174</td>\n",
       "      <td>1.505891e+06</td>\n",
       "      <td>188 Johnson Views Suite 079\\nLake Kathleen, CA...</td>\n",
       "    </tr>\n",
       "    <tr>\n",
       "      <th>2</th>\n",
       "      <td>61287.067179</td>\n",
       "      <td>5.865890</td>\n",
       "      <td>8.512727</td>\n",
       "      <td>5.13</td>\n",
       "      <td>36882.159400</td>\n",
       "      <td>1.058988e+06</td>\n",
       "      <td>9127 Elizabeth Stravenue\\nDanieltown, WI 06482...</td>\n",
       "    </tr>\n",
       "    <tr>\n",
       "      <th>3</th>\n",
       "      <td>63345.240046</td>\n",
       "      <td>7.188236</td>\n",
       "      <td>5.586729</td>\n",
       "      <td>3.26</td>\n",
       "      <td>34310.242831</td>\n",
       "      <td>1.260617e+06</td>\n",
       "      <td>USS Barnett\\nFPO AP 44820</td>\n",
       "    </tr>\n",
       "    <tr>\n",
       "      <th>4</th>\n",
       "      <td>59982.197226</td>\n",
       "      <td>5.040555</td>\n",
       "      <td>7.839388</td>\n",
       "      <td>4.23</td>\n",
       "      <td>26354.109472</td>\n",
       "      <td>6.309435e+05</td>\n",
       "      <td>USNS Raymond\\nFPO AE 09386</td>\n",
       "    </tr>\n",
       "    <tr>\n",
       "      <th>5</th>\n",
       "      <td>80175.754159</td>\n",
       "      <td>4.988408</td>\n",
       "      <td>6.104512</td>\n",
       "      <td>4.04</td>\n",
       "      <td>26748.428425</td>\n",
       "      <td>1.068138e+06</td>\n",
       "      <td>06039 Jennifer Islands Apt. 443\\nTracyport, KS...</td>\n",
       "    </tr>\n",
       "    <tr>\n",
       "      <th>6</th>\n",
       "      <td>64698.463428</td>\n",
       "      <td>6.025336</td>\n",
       "      <td>8.147760</td>\n",
       "      <td>3.41</td>\n",
       "      <td>60828.249085</td>\n",
       "      <td>1.502056e+06</td>\n",
       "      <td>4759 Daniel Shoals Suite 442\\nNguyenburgh, CO ...</td>\n",
       "    </tr>\n",
       "  </tbody>\n",
       "</table>\n",
       "</div>"
      ],
      "text/plain": [
       "   Avg. Area Income  Avg. Area House Age  Avg. Area Number of Rooms  \\\n",
       "0      79545.458574             5.682861                   7.009188   \n",
       "1      79248.642455             6.002900                   6.730821   \n",
       "2      61287.067179             5.865890                   8.512727   \n",
       "3      63345.240046             7.188236                   5.586729   \n",
       "4      59982.197226             5.040555                   7.839388   \n",
       "5      80175.754159             4.988408                   6.104512   \n",
       "6      64698.463428             6.025336                   8.147760   \n",
       "\n",
       "   Avg. Area Number of Bedrooms  Area Population         Price  \\\n",
       "0                          4.09     23086.800503  1.059034e+06   \n",
       "1                          3.09     40173.072174  1.505891e+06   \n",
       "2                          5.13     36882.159400  1.058988e+06   \n",
       "3                          3.26     34310.242831  1.260617e+06   \n",
       "4                          4.23     26354.109472  6.309435e+05   \n",
       "5                          4.04     26748.428425  1.068138e+06   \n",
       "6                          3.41     60828.249085  1.502056e+06   \n",
       "\n",
       "                                             Address  \n",
       "0  208 Michael Ferry Apt. 674\\nLaurabury, NE 3701...  \n",
       "1  188 Johnson Views Suite 079\\nLake Kathleen, CA...  \n",
       "2  9127 Elizabeth Stravenue\\nDanieltown, WI 06482...  \n",
       "3                          USS Barnett\\nFPO AP 44820  \n",
       "4                         USNS Raymond\\nFPO AE 09386  \n",
       "5  06039 Jennifer Islands Apt. 443\\nTracyport, KS...  \n",
       "6  4759 Daniel Shoals Suite 442\\nNguyenburgh, CO ...  "
      ]
     },
     "execution_count": 82,
     "metadata": {},
     "output_type": "execute_result"
    }
   ],
   "source": [
    "# 1.\n",
    "housing_data.head(7)"
   ]
  },
  {
   "cell_type": "code",
   "execution_count": 26,
   "metadata": {},
   "outputs": [
    {
     "data": {
      "image/png": "[encoded data removed]",
      "text/plain": [
       "<Figure size 640x480 with 1 Axes>"
      ]
     },
     "metadata": {},
     "output_type": "display_data"
    }
   ],
   "source": [
    "# 3. \n",
    "plt.scatter(housing_data['Avg. Area Income'], housing_data['Price'])\n",
    "plt.show()"
   ]
  },
  {
   "cell_type": "code",
   "execution_count": 67,
   "metadata": {},
   "outputs": [
    {
     "data": {
      "image/png": "[encoded data removed]",
      "text/plain": [
       "<Figure size 640x480 with 1 Axes>"
      ]
     },
     "metadata": {},
     "output_type": "display_data"
    }
   ],
   "source": [
    "# 4.\n",
    "sns.kdeplot(housing_data, x='Price');"
   ]
  },
  {
   "cell_type": "code",
   "execution_count": 83,
   "metadata": {},
   "outputs": [
    {
     "data": {
      "image/png": "[encoded data removed]",
      "text/plain": [
       "<Figure size 640x480 with 2 Axes>"
      ]
     },
     "metadata": {},
     "output_type": "display_data"
    }
   ],
   "source": [
    "# 5.\n",
    "df1 = housing_data.drop('Address', axis=1)\n",
    "sns.heatmap(df1.corr(), annot=True, cmap='coolwarm');"
   ]
  },
  {
   "cell_type": "code",
   "execution_count": 59,
   "metadata": {},
   "outputs": [],
   "source": [
    "# 6.\n",
    "from sklearn.model_selection import train_test_split\n",
    "from sklearn.linear_model import LinearRegression\n",
    "\n",
    "x = housing_data['Avg. Area Income']\n",
    "y = housing_data['Price']\n",
    "\n",
    "# Find out what this is about.\n",
    "x = np.array(x)\n",
    "x = x.reshape(-1, 1)\n",
    "\n",
    "# This doesn't do any training. It just takes two portions of the sample data. One for training and one for testing.\n",
    "# The train_size will be defaulted to 1 - test_size = 0.8.\n",
    "X_train, X_test, Y_train, Y_test = train_test_split(x, y, test_size=0.2, random_state=1)\n",
    "\n",
    "Model = LinearRegression(fit_intercept=True)\n",
    "lm1 = Model.fit(X_train, Y_train)"
   ]
  },
  {
   "cell_type": "code",
   "execution_count": 60,
   "metadata": {},
   "outputs": [],
   "source": [
    "Y_pred = lm1.predict(X_test)"
   ]
  },
  {
   "cell_type": "code",
   "execution_count": 61,
   "metadata": {},
   "outputs": [
    {
     "data": {
      "text/plain": [
       "-198109.9881140045"
      ]
     },
     "execution_count": 61,
     "metadata": {},
     "output_type": "execute_result"
    }
   ],
   "source": [
    "lm1.intercept_"
   ]
  },
  {
   "cell_type": "code",
   "execution_count": 62,
   "metadata": {},
   "outputs": [
    {
     "data": {
      "text/plain": [
       "array([20.86775228])"
      ]
     },
     "execution_count": 62,
     "metadata": {},
     "output_type": "execute_result"
    }
   ],
   "source": [
    "lm1.coef_"
   ]
  },
  {
   "cell_type": "code",
   "execution_count": 63,
   "metadata": {},
   "outputs": [],
   "source": [
    "from sklearn import metrics\n",
    "from sklearn.metrics import r2_score"
   ]
  },
  {
   "cell_type": "code",
   "execution_count": 64,
   "metadata": {},
   "outputs": [
    {
     "name": "stdout",
     "output_type": "stream",
     "text": [
      "The coefficient of determination is:  0.4378692217221959\n"
     ]
    }
   ],
   "source": [
    "r2 = r2_score(Y_test, Y_pred)\n",
    "print('The coefficient of determination is: ', r2)"
   ]
  },
  {
   "cell_type": "code",
   "execution_count": 65,
   "metadata": {},
   "outputs": [],
   "source": [
    "# This is actually exercise 2 - move it later.\n",
    "\n",
    "X = df1.drop(columns=['Price'])"
   ]
  },
  {
   "cell_type": "code",
   "execution_count": 68,
   "metadata": {},
   "outputs": [],
   "source": [
    "# Now we use a set of independent variables instead of just one\n",
    "X_train, X_test, Y_train, Y_test = train_test_split(X, y, test_size=0.2, random_state=1)\n",
    "lm2 = LinearRegression()\n",
    "lm2.fit(X_train, Y_train);"
   ]
  },
  {
   "cell_type": "code",
   "execution_count": 70,
   "metadata": {},
   "outputs": [],
   "source": [
    "Y_pred = lm2.predict(X_test)"
   ]
  },
  {
   "cell_type": "code",
   "execution_count": 71,
   "metadata": {},
   "outputs": [
    {
     "name": "stdout",
     "output_type": "stream",
     "text": [
      "The coefficient of determination is:  0.9215935236936301\n"
     ]
    }
   ],
   "source": [
    "r2 = r2_score(Y_test, Y_pred)\n",
    "print('The coefficient of determination is: ', r2)"
   ]
  },
  {
   "cell_type": "code",
   "execution_count": null,
   "metadata": {},
   "outputs": [],
   "source": [
    "from sklearn.metrics import mean_absolute_error\n",
    "mae = mean_absolute_error(Y_test, Y_pred)"
   ]
  },
  {
   "cell_type": "code",
   "execution_count": null,
   "metadata": {},
   "outputs": [],
   "source": [
    "from sklearn.metrics import mean_squared_error"
   ]
  },
  {
   "attachments": {},
   "cell_type": "markdown",
   "metadata": {},
   "source": [
    "# Background: Residuals\n",
    "A __residual__ is a measure of __how far away__ a point is __vertically__ from the __regression line__. Otherwise, it is the __error__ between a __predicted__ and the __observed value__ : \n",
    "$e_i = y_i - \\hat{y}_i$\n",
    "\n",
    "The __most important__ assumption of a linear regression model is that the __errors are independent and normally distributed__.\n",
    "\n",
    "The __characteristics__ of a __good__ resudual plot are:\n",
    "1. It has a __high density__ of points __close to the origin__ and a __low density__ of points __away from the origin__.\n",
    "1. It is __symmetric__ about the origin.\n",
    "\n",
    "The __[seaborn.displot()](https://seaborn.pydata.org/generated/seaborn.displot.html#seaborn.displot)__ provides access to several approaches for visualizing the __univariate__ or __bivariate__ distribution of data. The __kind__ parameter selects the approach to use:\n",
    "1. Plot a __histogram__ of binned counts with optional normalization or smoothing: ```histplot()``` (with ```kind=\"hist\"``` / default)\n",
    "1. Plot univariate or bivariate distributions using __kernel density estimation__: ```kdeplot()``` (with ```kind=\"kde\"```)\n",
    "1. Plot __empirical cumulative distribution functions__: ```ecdfplot()``` (with ```kind=\"ecdf\"``` / univariate only)\n",
    "\n",
    "The __data__ parameter is used for the __input data__. It can be either a pandas.DataFrame, numpy.ndarray, mapping or sequence.\n",
    "\n",
    "While in __histogram mode__, it is also possible to __add a KDE curve__:\n",
    "```python\n",
    "sns.displot((y_test-predictions),kde=True)\n",
    "```\n",
    "It will result in the following Figure:\n",
    "![Residuals.png](attachment:Residuals.png)"
   ]
  },
  {
   "cell_type": "markdown",
   "metadata": {},
   "source": [
    "# Exercise 2: Multiple Regression Analysis\n",
    "Now repeat the same analysis by inserting in your analysis all the available predictors. Use the same evaluation metrics to decide whether your new model is better than the previous one. What about the residuals?"
   ]
  },
  {
   "cell_type": "code",
   "execution_count": 11,
   "metadata": {},
   "outputs": [],
   "source": [
    "# Place your code here"
   ]
  },
  {
   "cell_type": "markdown",
   "metadata": {},
   "source": [
    "# Background: Detect Missing Values\n",
    "1. The ```df.isna()``` __detects__ missing values. It returns a boolean same-sized object indicating if the values are NA. \n",
    "NA values such as __None__ or __numpy.Nan__, get mapped to __True__ values.\n",
    "Everything else gets mapped to __False__ values. Characters such as empty strings __''__ or __numpy.inf__ are not considered __NA values__.\n",
    "1. The ```df.isna().sum()``` returns the columns in our Pandas DataFrame along with the __number of missing values__ detected in __each one__."
   ]
  },
  {
   "cell_type": "markdown",
   "metadata": {},
   "source": [
    "# Background: Transformation of Categorical Variables\n",
    "Since machine learning models can __take only numeric values__, we need to __replace__ the __categorical string values__ with __numeric values__:\n",
    "```python\n",
    "# Define a mapping of categorical values to numeric values\n",
    "sex_mapping={'female':0,'male':1}\n",
    "# Replace the categorical variables with the numeric ones\n",
    "df['sex']=df['sex'].replace(sex_mapping)\n",
    "```"
   ]
  },
  {
   "cell_type": "markdown",
   "metadata": {},
   "source": [
    "# Background: Scaling the data\n",
    "Prior to the application of a machine learning algorithm, it is a __good practice__ to __scale the data__ and bring them to the __same range__.\n",
    "\n",
    "We will use the __[StandardScaler method](https://scikit-learn.org/stable/modules/generated/sklearn.preprocessing.StandardScaler.html)__ for that:\n",
    "```python\n",
    "from sklearn.preprocessing import StandardScaler\n",
    "scaler = StandardScaler()\n",
    "X_train_scaler = scaler.fit_transform(X_train)\n",
    "X_test_scaler = scaler.transform(X_test)\n",
    "```"
   ]
  },
  {
   "cell_type": "markdown",
   "metadata": {},
   "source": [
    "# Exercise 3:\n",
    "In this exercise you have to load to your Jupyter Notebook the file __'insurance.csv'__. You will use the __'expenses'__ as the __dependent variable/outcome__ and all the others will be your predictors. Try different polynomial models by changing the order of the polynomial from 2 to 6. Which one performs better? Justify your reply based on evaluation metrics computed on both training and test set.\n",
    "\n",
    "__Hint__: As Polynomial Regression is based on __Linear Regression__, we need to import both LinearRegression and Polynomial Features methods:\n",
    "1. The first step is to call the PolynomialFeatures method with the degree of power.\n",
    "1. Transform the train and test data and fit them into the PolynomialFeatures method.\n",
    "1. Then, use the input and output variables for training through the Linear Regression method."
   ]
  },
  {
   "cell_type": "code",
   "execution_count": 76,
   "metadata": {},
   "outputs": [],
   "source": [
    "import numpy as np\n",
    "import matplotlib.pyplot as plt\n",
    "import pandas as pd"
   ]
  },
  {
   "cell_type": "code",
   "execution_count": 78,
   "metadata": {},
   "outputs": [],
   "source": [
    "from sklearn.preprocessing import StandardScaler\n",
    "from sklearn.model_selection import train_test_split\n",
    "from sklearn.preprocessing import PolynomialFeatures\n",
    "from sklearn.metrics import r2_score"
   ]
  },
  {
   "cell_type": "code",
   "execution_count": 81,
   "metadata": {},
   "outputs": [
    {
     "data": {
      "text/html": [
       "<div>\n",
       "<style scoped>\n",
       "    .dataframe tbody tr th:only-of-type {\n",
       "        vertical-align: middle;\n",
       "    }\n",
       "\n",
       "    .dataframe tbody tr th {\n",
       "        vertical-align: top;\n",
       "    }\n",
       "\n",
       "    .dataframe thead th {\n",
       "        text-align: right;\n",
       "    }\n",
       "</style>\n",
       "<table border=\"1\" class=\"dataframe\">\n",
       "  <thead>\n",
       "    <tr style=\"text-align: right;\">\n",
       "      <th></th>\n",
       "      <th>age</th>\n",
       "      <th>sex</th>\n",
       "      <th>bmi</th>\n",
       "      <th>children</th>\n",
       "      <th>smoker</th>\n",
       "      <th>region</th>\n",
       "      <th>expenses</th>\n",
       "    </tr>\n",
       "  </thead>\n",
       "  <tbody>\n",
       "    <tr>\n",
       "      <th>0</th>\n",
       "      <td>19</td>\n",
       "      <td>female</td>\n",
       "      <td>27.9</td>\n",
       "      <td>0</td>\n",
       "      <td>yes</td>\n",
       "      <td>southwest</td>\n",
       "      <td>16884.92</td>\n",
       "    </tr>\n",
       "    <tr>\n",
       "      <th>1</th>\n",
       "      <td>18</td>\n",
       "      <td>male</td>\n",
       "      <td>33.8</td>\n",
       "      <td>1</td>\n",
       "      <td>no</td>\n",
       "      <td>southeast</td>\n",
       "      <td>1725.55</td>\n",
       "    </tr>\n",
       "    <tr>\n",
       "      <th>2</th>\n",
       "      <td>28</td>\n",
       "      <td>male</td>\n",
       "      <td>33.0</td>\n",
       "      <td>3</td>\n",
       "      <td>no</td>\n",
       "      <td>southeast</td>\n",
       "      <td>4449.46</td>\n",
       "    </tr>\n",
       "    <tr>\n",
       "      <th>3</th>\n",
       "      <td>33</td>\n",
       "      <td>male</td>\n",
       "      <td>22.7</td>\n",
       "      <td>0</td>\n",
       "      <td>no</td>\n",
       "      <td>northwest</td>\n",
       "      <td>21984.47</td>\n",
       "    </tr>\n",
       "    <tr>\n",
       "      <th>4</th>\n",
       "      <td>32</td>\n",
       "      <td>male</td>\n",
       "      <td>28.9</td>\n",
       "      <td>0</td>\n",
       "      <td>no</td>\n",
       "      <td>northwest</td>\n",
       "      <td>3866.86</td>\n",
       "    </tr>\n",
       "  </tbody>\n",
       "</table>\n",
       "</div>"
      ],
      "text/plain": [
       "   age     sex   bmi  children smoker     region  expenses\n",
       "0   19  female  27.9         0    yes  southwest  16884.92\n",
       "1   18    male  33.8         1     no  southeast   1725.55\n",
       "2   28    male  33.0         3     no  southeast   4449.46\n",
       "3   33    male  22.7         0     no  northwest  21984.47\n",
       "4   32    male  28.9         0     no  northwest   3866.86"
      ]
     },
     "execution_count": 81,
     "metadata": {},
     "output_type": "execute_result"
    }
   ],
   "source": [
    "df = pd.read_csv('insurance.csv')\n",
    "df.head()"
   ]
  },
  {
   "cell_type": "code",
   "execution_count": 89,
   "metadata": {},
   "outputs": [],
   "source": [
    "sex_mapping    = {'female':0, 'male':1}\n",
    "smoker_mapping = {'yes':0, 'no':1}\n",
    "region_mapping = {'southwest':0, 'southeast':1, 'northwest':2, 'northeast':3}"
   ]
  },
  {
   "cell_type": "code",
   "execution_count": 90,
   "metadata": {},
   "outputs": [],
   "source": [
    "df['sex']    = df['sex']   .replace(sex_mapping)\n",
    "df['smoker'] = df['smoker'].replace(smoker_mapping)\n",
    "df['region'] = df['region'].replace(region_mapping)"
   ]
  },
  {
   "cell_type": "code",
   "execution_count": 91,
   "metadata": {},
   "outputs": [
    {
     "data": {
      "text/html": [
       "<div>\n",
       "<style scoped>\n",
       "    .dataframe tbody tr th:only-of-type {\n",
       "        vertical-align: middle;\n",
       "    }\n",
       "\n",
       "    .dataframe tbody tr th {\n",
       "        vertical-align: top;\n",
       "    }\n",
       "\n",
       "    .dataframe thead th {\n",
       "        text-align: right;\n",
       "    }\n",
       "</style>\n",
       "<table border=\"1\" class=\"dataframe\">\n",
       "  <thead>\n",
       "    <tr style=\"text-align: right;\">\n",
       "      <th></th>\n",
       "      <th>age</th>\n",
       "      <th>sex</th>\n",
       "      <th>bmi</th>\n",
       "      <th>children</th>\n",
       "      <th>smoker</th>\n",
       "      <th>region</th>\n",
       "      <th>expenses</th>\n",
       "    </tr>\n",
       "  </thead>\n",
       "  <tbody>\n",
       "    <tr>\n",
       "      <th>0</th>\n",
       "      <td>19</td>\n",
       "      <td>0</td>\n",
       "      <td>27.9</td>\n",
       "      <td>0</td>\n",
       "      <td>0</td>\n",
       "      <td>0</td>\n",
       "      <td>16884.92</td>\n",
       "    </tr>\n",
       "    <tr>\n",
       "      <th>1</th>\n",
       "      <td>18</td>\n",
       "      <td>1</td>\n",
       "      <td>33.8</td>\n",
       "      <td>1</td>\n",
       "      <td>1</td>\n",
       "      <td>1</td>\n",
       "      <td>1725.55</td>\n",
       "    </tr>\n",
       "    <tr>\n",
       "      <th>2</th>\n",
       "      <td>28</td>\n",
       "      <td>1</td>\n",
       "      <td>33.0</td>\n",
       "      <td>3</td>\n",
       "      <td>1</td>\n",
       "      <td>1</td>\n",
       "      <td>4449.46</td>\n",
       "    </tr>\n",
       "    <tr>\n",
       "      <th>3</th>\n",
       "      <td>33</td>\n",
       "      <td>1</td>\n",
       "      <td>22.7</td>\n",
       "      <td>0</td>\n",
       "      <td>1</td>\n",
       "      <td>2</td>\n",
       "      <td>21984.47</td>\n",
       "    </tr>\n",
       "    <tr>\n",
       "      <th>4</th>\n",
       "      <td>32</td>\n",
       "      <td>1</td>\n",
       "      <td>28.9</td>\n",
       "      <td>0</td>\n",
       "      <td>1</td>\n",
       "      <td>2</td>\n",
       "      <td>3866.86</td>\n",
       "    </tr>\n",
       "    <tr>\n",
       "      <th>...</th>\n",
       "      <td>...</td>\n",
       "      <td>...</td>\n",
       "      <td>...</td>\n",
       "      <td>...</td>\n",
       "      <td>...</td>\n",
       "      <td>...</td>\n",
       "      <td>...</td>\n",
       "    </tr>\n",
       "    <tr>\n",
       "      <th>1333</th>\n",
       "      <td>50</td>\n",
       "      <td>1</td>\n",
       "      <td>31.0</td>\n",
       "      <td>3</td>\n",
       "      <td>1</td>\n",
       "      <td>2</td>\n",
       "      <td>10600.55</td>\n",
       "    </tr>\n",
       "    <tr>\n",
       "      <th>1334</th>\n",
       "      <td>18</td>\n",
       "      <td>0</td>\n",
       "      <td>31.9</td>\n",
       "      <td>0</td>\n",
       "      <td>1</td>\n",
       "      <td>3</td>\n",
       "      <td>2205.98</td>\n",
       "    </tr>\n",
       "    <tr>\n",
       "      <th>1335</th>\n",
       "      <td>18</td>\n",
       "      <td>0</td>\n",
       "      <td>36.9</td>\n",
       "      <td>0</td>\n",
       "      <td>1</td>\n",
       "      <td>1</td>\n",
       "      <td>1629.83</td>\n",
       "    </tr>\n",
       "    <tr>\n",
       "      <th>1336</th>\n",
       "      <td>21</td>\n",
       "      <td>0</td>\n",
       "      <td>25.8</td>\n",
       "      <td>0</td>\n",
       "      <td>1</td>\n",
       "      <td>0</td>\n",
       "      <td>2007.95</td>\n",
       "    </tr>\n",
       "    <tr>\n",
       "      <th>1337</th>\n",
       "      <td>61</td>\n",
       "      <td>0</td>\n",
       "      <td>29.1</td>\n",
       "      <td>0</td>\n",
       "      <td>0</td>\n",
       "      <td>2</td>\n",
       "      <td>29141.36</td>\n",
       "    </tr>\n",
       "  </tbody>\n",
       "</table>\n",
       "<p>1338 rows × 7 columns</p>\n",
       "</div>"
      ],
      "text/plain": [
       "      age  sex   bmi  children  smoker  region  expenses\n",
       "0      19    0  27.9         0       0       0  16884.92\n",
       "1      18    1  33.8         1       1       1   1725.55\n",
       "2      28    1  33.0         3       1       1   4449.46\n",
       "3      33    1  22.7         0       1       2  21984.47\n",
       "4      32    1  28.9         0       1       2   3866.86\n",
       "...   ...  ...   ...       ...     ...     ...       ...\n",
       "1333   50    1  31.0         3       1       2  10600.55\n",
       "1334   18    0  31.9         0       1       3   2205.98\n",
       "1335   18    0  36.9         0       1       1   1629.83\n",
       "1336   21    0  25.8         0       1       0   2007.95\n",
       "1337   61    0  29.1         0       0       2  29141.36\n",
       "\n",
       "[1338 rows x 7 columns]"
      ]
     },
     "execution_count": 91,
     "metadata": {},
     "output_type": "execute_result"
    }
   ],
   "source": [
    "df"
   ]
  },
  {
   "cell_type": "code",
   "execution_count": 98,
   "metadata": {},
   "outputs": [
    {
     "data": {
      "text/plain": [
       "age         0\n",
       "sex         0\n",
       "bmi         0\n",
       "children    0\n",
       "smoker      0\n",
       "region      0\n",
       "expenses    0\n",
       "dtype: int64"
      ]
     },
     "execution_count": 98,
     "metadata": {},
     "output_type": "execute_result"
    }
   ],
   "source": [
    "df.isna().sum()"
   ]
  },
  {
   "cell_type": "code",
   "execution_count": 101,
   "metadata": {},
   "outputs": [],
   "source": [
    "X = df.drop(columns=['expenses'])\n",
    "y = df['expenses']\n",
    "X_train, X_test, Y_train, Y_test = train_test_split(X, y, test_size=0.2, random_state=1)"
   ]
  },
  {
   "cell_type": "code",
   "execution_count": 103,
   "metadata": {},
   "outputs": [],
   "source": [
    "scaler = StandardScaler()\n",
    "X_train_scaler = scaler.fit_transform(X_train)\n",
    "X_test_scaler = scaler.transform(X_test)"
   ]
  },
  {
   "cell_type": "code",
   "execution_count": 106,
   "metadata": {},
   "outputs": [],
   "source": [
    "poly = PolynomialFeatures(degree=3)\n",
    "X_poly_train = poly.fit_transform(X_train_scaler)\n",
    "X_test_poly = poly.transform(X_test_scaler)\n",
    "poly.fit(X_poly_train, Y_train);"
   ]
  },
  {
   "cell_type": "code",
   "execution_count": null,
   "metadata": {},
   "outputs": [],
   "source": [
    "from sklearn.linear_model import LinearRegression\n",
    "lm3 = LinearRegression()\n",
    "lm3.fit(X_poly_train, Y_train);"
   ]
  },
  {
   "cell_type": "code",
   "execution_count": null,
   "metadata": {},
   "outputs": [],
   "source": []
  },
  {
   "cell_type": "markdown",
   "metadata": {},
   "source": [
    "# Exercise 4:"
   ]
  },
  {
   "cell_type": "code",
   "execution_count": 13,
   "metadata": {},
   "outputs": [],
   "source": [
    "# Place your code here"
   ]
  },
  {
   "cell_type": "markdown",
   "metadata": {},
   "source": [
    "# References\n",
    "__[seaborn](https://seaborn.pydata.org/)__\n",
    "<br>\n",
    "__[User Guide](https://seaborn.pydata.org/tutorial.html)__\n",
    "<br>\n",
    "__[seaborn.set_style(style,rc)](https://seaborn.pydata.org/generated/seaborn.set_style.html)__\n",
    "<br>\n",
    "__[seaborn.kdeplot](https://seaborn.pydata.org/generated/seaborn.kdeplot.html)__ \n",
    "<br>\n",
    "__[pandas.DataFrame.corr](https://pandas.pydata.org/docs/reference/api/pandas.DataFrame.corr.html)__\n",
    "<br>\n",
    "__[seaborn.heatmap](https://seaborn.pydata.org/generated/seaborn.heatmap.html)__\n",
    "<br>\n",
    "__[seaborn.displot()](https://seaborn.pydata.org/generated/seaborn.displot.html#seaborn.displot)__\n",
    "<br>\n",
    "__[StandardScaler method](https://scikit-learn.org/stable/modules/generated/sklearn.preprocessing.StandardScaler.html)__ "
   ]
  },
  {
   "cell_type": "markdown",
   "metadata": {},
   "source": [
    "Please visit the following link for __[Workshop 3 Evaluation](https://app.wooclap.com/PIHHOO?from=event-page)__\n",
    "<br>\n",
    "Tell us your opinion about this workshop and how we could become better in the next one.\n",
    "<br>\n",
    "__Your opinion matters!!!__)__\n",
    "<br>\n",
    "Tell us your opinion about this workshop and how we could become better in the next one.\n",
    "<br>\n",
    "__Your opinion matters!!!__"
   ]
  },
  {
   "cell_type": "code",
   "execution_count": null,
   "metadata": {},
   "outputs": [],
   "source": []
  },
  {
   "cell_type": "code",
   "execution_count": null,
   "metadata": {},
   "outputs": [],
   "source": []
  }
 ],
 "metadata": {
  "kernelspec": {
   "display_name": "Python 3 (ipykernel)",
   "language": "python",
   "name": "python3"
  },
  "language_info": {
   "codemirror_mode": {
    "name": "ipython",
    "version": 3
   },
   "file_extension": ".py",
   "mimetype": "text/x-python",
   "name": "python",
   "nbconvert_exporter": "python",
   "pygments_lexer": "ipython3",
   "version": "3.11.4"
  }
 },
 "nbformat": 4,
 "nbformat_minor": 4
}
