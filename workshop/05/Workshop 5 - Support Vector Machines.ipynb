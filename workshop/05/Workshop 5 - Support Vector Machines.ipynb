{
 "cells": [
  {
   "cell_type": "markdown",
   "metadata": {},
   "source": [
    "<span style=\"font-size: 28px;\"> __Machine Learning Workshp 5 : Support Vector Machines (SVMs)__.</span>\n",
    "<br>\n",
    "<br>\n",
    "<div style=\"text-align: center;\">\n",
    "<span style=\"font-size: 22px;\"> Welecome to our fifth workshop! </span> </div>\n",
    "<br>\n",
    "In this workshop we will investigate the fundamentals of the __Support Vector Machines__ and how to improve its performance through hyperparameter tuning."
   ]
  },
  {
   "cell_type": "markdown",
   "metadata": {},
   "source": [
    "<span style=\"font-size: 36px;\">__Table of Contents__</span>\n",
    "1. [The datasets module](#The-datasets-module)\n",
    "1. [Feature Extraction](#Feature-Extraction)\n",
    "1. [Dependent Variable Extraction](#Dependent-Variable-Extraction)\n",
    "1. [The SVM module](#The-SVM-module)\n",
    "1. [Classification Report](#Classification-Report)\n",
    "1. [The format() method](#The-format()-method)\n",
    "1. [Support Vector Classification Example](#Support-Vector-Classification-Example)\n",
    "1. [Hyperparameter tuning](#Hyperparameter-tuning)\n",
    "1. [GridSearchCV](#GridSearchCV)\n",
    "1. [Exercise 1](Exercise-1)\n",
    "1. [k-fold cross validation function](#k-fold-cross-validation-function)\n",
    "1. [Exercise 3 / Optional](#Exercise-3-/-Optional)\n",
    "1. [References](#References)\n",
    "1. [Evaluation](#Evaluation)"
   ]
  },
  {
   "cell_type": "markdown",
   "metadata": {},
   "source": [
    "# The datasets module\n",
    "1. In `scikit-learn (sklearn`, the `datasets` module provides several commonly used datasets that are often used for machine learning and data science tasks.\n",
    "1. These datasets are included with `scikit-learn` for __educational__ and __demonstration__ purposes.\n",
    "1. You can use these datasets to __practice__ and __experiment__ with various machine learning algorithms and techniques.\n",
    "<br>\n",
    "\n",
    "Some of these datasets are:\n",
    "1. __Iris Dataset:__ It contains measurements of sepal length, sepal width, petal length and petal width for three species of Iris flowers. It is commonly used for __classification__ tasks.\n",
    "1. __Digits Dataset:__ It contains $8 * 8$ pixel images of handwritten digits (0-9). It is often used for __image classification__ and __digit recognition__ tasks.\n",
    "1. __Wine Dataset:__ It contains measurements of various chemical components in different wines. It is used for classification and clustering tasks.\n",
    "1. __Breast Cancer Dataset:__ It contains features related to __breast cancer tumors__. It is commonly used for __binary class classification__ task to predict whether a tumor is benign or malignant.\n",
    "1. __Olivetti Faces Dataset:__ It contains grayscale images of faces for __face recognition__ and __classification__ tasks.\n",
    "\n",
    "You can load these datasets using the function 'load_datasetname()' such as \n",
    "```python\n",
    "load_iris()\n",
    "```"
   ]
  },
  {
   "cell_type": "markdown",
   "metadata": {},
   "source": [
    "# Feature Extraction\n",
    "Usually, we wish to __extract__ the __feature matrix__ (independent variables) from a dataset and __assign__it to a variable ```X```:\n",
    "```python\n",
    "X=iris.data\n",
    "```\n",
    "The ```iris.data``` is an attribute of the ```iris``` object. It contains the __feature matrix__ of the dataset.\n",
    "In the context of the Iris dataset, this feature matrix consists of four columns (features): 1) sepal length, 2) sepal width, 3) petal length, 4) petal width:\n",
    "```python\n",
    "sepal_length = X[:, 0]\n",
    "sepal_width = X[:, 1]\n",
    "petal_length = X[:, 2]\n",
    "petal_width = X[:, 3]\n",
    "sepal_area = sepal_length * sepal_width\n",
    "petal_area = petal_length * petal_width\n",
    "```"
   ]
  },
  {
   "cell_type": "markdown",
   "metadata": {},
   "source": [
    "# Dependent Variable Extraction\n",
    "The ```iris.target``` is an attribute that contains the target values or labels associated with the __Irsis dataset__.\n",
    "Each label in ```iris.target``` corresponds to a specific Iris flower species. There are three target classes in the Iris dataset: \n",
    "1. 0: Setosa\n",
    "1. 1: Versicolor\n",
    "1. 2: Virginica\n",
    "\n",
    "Each __class__ represents a __different species__ of Iris flowers.\n",
    "So, we may use the following code:\n",
    "```python\n",
    "from sklearn import datasets\n",
    "\n",
    "# Load the Iris dataset\n",
    "iris = datasets.load_iris()\n",
    "X = iris.data\n",
    "y = iris.target\n",
    "\n",
    "# Compute the sepal and petal area\n",
    "sepal_length = X[:, 0]\n",
    "sepal_width = X[:, 1]\n",
    "petal_length = X[:, 2]\n",
    "petal_width = X[:, 3]\n",
    "```"
   ]
  },
  {
   "cell_type": "markdown",
   "metadata": {},
   "source": [
    "# The SVM module\n",
    "1. The __```sklearn.svm```__ is a scikit-learn (also known as sklearn) module used for __Support Vector Machines / SVMs__.\n",
    "1. __SVM__ is a powerful and versatile machine learning algorithm used for both __classification__ and __regression__ tasks.\n",
    "1. The ```sklearn.svm``` module includes classes and functions for working with SVM models.\n",
    "\n",
    "Its __key components/classes__ are:\n",
    "1. __Support Vector Classification / SVC:__ It is used for training and using SVMs for classification tasks. It can handle __binary__ and __multiclass classification problems__.\n",
    "1. __NuSCV:__ It is similar to __SVC__, but allows you to __set__ a different hyperparameter __```nu```__ istead of __```C```__.\n",
    "1. __LinearSVC:__ This class is used for __linear__ SVM classification.\n",
    "1. __Support Vector Regression / SVR:__ The __```SVR```__ class is used for __regression__ tasks with SVMs.\n",
    "1. __NuSVR:__ Similar to __```SVR```__ but allows you to __set__ a different hyperparameter __```nu```__ istead of __```C```__.\n",
    "1. __OneClassSVM:__ This class is used for __novelty and outlier detection__. It learns a support vector model for __one-class classification__.\n",
    "\n",
    "\n",
    "1. The __scikit-learn SVM__ module provides a __consistent__ and __user-friendly__ API for __training__ and __using__ SVM models.\n",
    "1. It allows you to __set various hyperparameters__, __choose different kernel functions__ and __handle multi-class problems__ effectively.\n",
    "1. SVMs are known for their __effectiveness__ in both __classification__ and __regression__ scenarios."
   ]
  },
  {
   "cell_type": "markdown",
   "metadata": {},
   "source": [
    "# Classification Report\n",
    "1. It is a scikit-learn (sklearn) function that provides a __comprehensive report__ on the __quality of__ a classification model's __predictions__.\n",
    "1. It __calculates__ and __presents__ several __key performance metrics__ for each class in a __classification__ problem.\n",
    "1. The report is useful for __assessing__ the __model's overall performance__, as well as its performance on __individual classes__.\n",
    "1. It typically includes the following metrics: __Precision, Recall, F1-score, Support.__\n",
    "1. __Support__ represents the __number of actual occurrences__ of __each class__ in the dataset.\n",
    "1. It is a __valuable tool__ for understanding the strengths and weaknesses of a classification model.\n",
    "1. It helps you assess how well the model performs on different classes and whether it is biased towards any particular class."
   ]
  },
  {
   "cell_type": "markdown",
   "metadata": {},
   "source": [
    "# The format() method\n",
    "1. It is used to __format__ and __insert__ values into a string.\n",
    "1. You may use it when you wish to __create strings__ that __include placeholders__ and then __fill__ those placeholders with __values you want to diplay__.\n",
    "1. The string \n",
    "```python\n",
    "\"Accuracy: {.2f}\"\n",
    "``` \n",
    "contains a placeholder ```{:.2f}```. This placeholder is used to format a floating-point number.\n",
    "1. In the ```.format(accuracy)``` method, the variable ```accuracy``` is provided as an argument.\n",
    "1. The ```:.2f``` inside the placeholder indicates that the ```accuracy``` variable should be formatted as a floating-point number with two decimal points.\n",
    "1. When you run the code:\n",
    "```python\n",
    "print(\"Accuracy:{:.2f}\".format(accuracy))\n",
    "```\n",
    "the ```{:.2f}``` placeholder is __replaced by the actual value__ of the __```accuracy```__ variable and it is __displayed__ in the string with __two decimal points__.\n",
    "1. This formatting is __useful__ for __presenting numerical results__ in a more __readable and consistent__ manner."
   ]
  },
  {
   "cell_type": "markdown",
   "metadata": {},
   "source": [
    "# Support Vector Classification Example\n",
    "Here is an example of how you might use the __```SVC```__ class from __```sklearn.svm```__ for classification:\n",
    "\n",
    "```python\n",
    "from sklearn.svm import SVC\n",
    "from sklearn.datasets import load_iris\n",
    "from sklearn.model_selection import train_test_split\n",
    "from sklearn.metrics import accuracy_score, classification_report\n",
    "\n",
    "# Load the Iris dataset\n",
    "iris = load_iris()\n",
    "X = iris.data\n",
    "y = iris.target\n",
    "\n",
    "# Split the data into training and testing sets\n",
    "X_train, X_test, y_train, y_test = train_test_split(X, y, test_size=0.2, random_state=42)\n",
    "\n",
    "# Create an SVM classifier\n",
    "svm_classifier = SVC(kernel='linear', C=1.0)\n",
    "\n",
    "# Train the model on the training data\n",
    "svm_classifier.fit(X_train, y_train)\n",
    "\n",
    "# Make predictions\n",
    "y_pred = svm_classifier.predict(X_test)\n",
    "\n",
    "# Evaluate the model's performance on the test set\n",
    "accuracy = accuracy_score(y_test, y_pred)\n",
    "report = classification_report(y_test, y_pred, target_names=iris.target_names)\n",
    "\n",
    "print(\"Accuracy: {:.2f}\".format(accuracy))\n",
    "print(\"Classification Report:\\n\", report)\n",
    "```"
   ]
  },
  {
   "cell_type": "markdown",
   "metadata": {},
   "source": [
    "# Hyperparameter tuning\n",
    "Usually, the hyperparameters being tuned are:\n",
    "1. The __Regularization Parameter ```C```__, which controls the trade-off between __maximizing the margin__ and __minimizing the classification error__.\n",
    "1. The __kernel function ```kernel```__ to use, which determines the __decision boundary shape__: linear, polynomial or radial basis function.\n",
    "1. The __kernel coefficient ```gamma```__, which influences the __shape of the decision boundary__."
   ]
  },
  {
   "cell_type": "markdown",
   "metadata": {},
   "source": [
    "# GridSearchCV\n",
    "It is a ```scikit-learn (sklearn)``` class used to __perform a grid search__ for the best combination of hyperparameters using __cross-validation__.\n",
    "Its __input arguments__ are:\n",
    "1. A __```SVC``` instance__, which is the SVM classifier you want to __tune__.\n",
    "1. The __```param_grid```__ which represents the __dictionary of parameters__ and their __possible values to search over__.\n",
    "1. The __```cv=value```__, specifies a value-fold cross validation. For example __```cv=10```__ specifies a __10-fold cross-validation__. For example, __```cv=10```__ specifies a __10-fold cross-validation__. This means, that the __dataset__ is __divided__ into __10 subsets__, the __grid search__ is __performed 10 times__, each time using a __different subset__ as the __validation set__.\n",
    "1. The __```n_jobs=-1```__ utilizes __all available CPU cores__ for the grid search, which can significantly speed up the search, especially for __large datasets and complex models__.\n",
    "\n",
    "The __```fit(X_train,y_train)```__ method is called on the __```grid_search```__ object, where __```X_train```__ contains the __feature data__ and __```y_train```__ contains the __corresponding target labels__ for training.\n",
    "\n",
    "You can __access__ the __optimal parameters__ through the __```best_params_```__ and the corresponding score through the __```best_score_```__.\n",
    "\n",
    "Below you may find an example of hyperparameter tuning:\n",
    "```python\n",
    "# Define the hyperparameters to tune\n",
    "param_grid = {'C': [0.1, 1, 10], 'kernel': ['linear', 'poly', 'rbf'], 'gamma': ['scale', 'auto', 0.1, 1]}\n",
    "\n",
    "# Perform 10-fold cross-validation for hyperparameter tuning\n",
    "grid_search = GridSearchCV(svm_classifier, param_grid, cv=10, n_jobs=-1)\n",
    "grid_search.fit(X_train, y_train)\n",
    "\n",
    "```"
   ]
  },
  {
   "cell_type": "markdown",
   "metadata": {},
   "source": [
    "# Exercise 1\n",
    "In this exercise you would perform a basic classification with Support Vector Machines:\n",
    "1. Firstly, please load the Iris dataset and compute the sepal area and sepal length as follows:\n",
    "    ```python\n",
    "    sepal_area = sepal_length * sepal_width\n",
    "    petal_area = petal_length * petal_width\n",
    "    ```\n",
    "1. Then, create a feature matrix with only those two features (sepal & petal area).\n",
    "1. Split the data into training and testing sets.\n",
    "1. Define the SVM classifier.\n",
    "1. Perform hyperparameter tuning using the __```GridSearchCV```__ method.\n",
    "1. Get the best parameters.\n",
    "1. Train the SVM model with the best parameters.\n",
    "1. Visualize the decision boundary.\n",
    "1. Evaluate the model on the test set."
   ]
  },
  {
   "cell_type": "code",
   "execution_count": 22,
   "metadata": {},
   "outputs": [],
   "source": [
    "# 1. Firstly, please load the Iris dataset and compute the sepal area and sepal length as follows:\n",
    "#     sepal_area = sepal_length * sepal_width\n",
    "#     petal_area = petal_length * petal_width\n",
    "from sklearn import datasets\n",
    "\n",
    "iris = datasets.load_iris()\n",
    "X = iris.data\n",
    "\n",
    "sepal_length = X[:, iris.feature_names.index('sepal length (cm)')]\n",
    "sepal_width  = X[:, iris.feature_names.index('sepal width (cm)') ]\n",
    "petal_length = X[:, iris.feature_names.index('petal length (cm)')]\n",
    "petal_width  = X[:, iris.feature_names.index('petal width (cm)') ]\n",
    "\n",
    "sepal_area = sepal_length * sepal_width\n",
    "petal_area = petal_length * petal_width"
   ]
  },
  {
   "cell_type": "code",
   "execution_count": 29,
   "metadata": {},
   "outputs": [],
   "source": [
    "# 2. Then, create a feature matrix with only those two features (sepal & petal area).\n",
    "\n",
    "# X = [[sepal_area[i], petal_area[i]] for i in range(len(sepal_area))]\n",
    "# Better is:\n",
    "import numpy as np\n",
    "\n",
    "X = np.c_[sepal_area, petal_area]\n",
    "\n",
    "# np.c_ is essentially a transpose\n",
    "# weirdly it isn't a function\n",
    "# of course, it is actually a function under the hood because it accepts any input\n",
    "# it's a syntactical trick that allows you to use slice notation in a \"function\" call\n",
    "# because you can use slice notation in square brackets but not parentheses\n",
    "# eg.\n",
    "\n",
    "# int(np.c_[[1, 2, 3], \n",
    "#           [4, 5, 6]])\n",
    "\n",
    "# returns:\n",
    "\n",
    "# [[1 4]\n",
    "#  [2 5]\n",
    "#  [3 6]]"
   ]
  },
  {
   "cell_type": "code",
   "execution_count": 24,
   "metadata": {},
   "outputs": [],
   "source": [
    "# 3. Split the data into training and testing sets.\n",
    "from sklearn.model_selection import train_test_split\n",
    "from sklearn import StandardScaler\n",
    "\n",
    "y = iris.target\n",
    "\n",
    "# Always normalise!\n",
    "scaler = StandardScaler()\n",
    "X_scaled\n",
    "\n",
    "X_train, X_test, y_train, y_test = train_test_split(X, y, random_state=42, test_size=0.2, shuffle=True)"
   ]
  },
  {
   "cell_type": "code",
   "execution_count": 30,
   "metadata": {},
   "outputs": [],
   "source": [
    "# 4. Define the SVM classifier.\n",
    "\n",
    "from sklearn.svm import SVC\n",
    "from sklearn.metrics import accuracy_score, classification_report\n",
    "\n",
    "svm_classifier = SVC(kernel='linear', C=1.0)"
   ]
  },
  {
   "cell_type": "code",
   "execution_count": null,
   "metadata": {},
   "outputs": [],
   "source": [
    "# 5. Perform hyperparameter tuning using the GridSearchCV method."
   ]
  },
  {
   "cell_type": "code",
   "execution_count": null,
   "metadata": {},
   "outputs": [],
   "source": [
    "# 6. Get the best parameters."
   ]
  },
  {
   "cell_type": "code",
   "execution_count": null,
   "metadata": {},
   "outputs": [],
   "source": [
    "# 7. Train the SVM model with the best parameters."
   ]
  },
  {
   "cell_type": "code",
   "execution_count": null,
   "metadata": {},
   "outputs": [],
   "source": [
    "# 8. Visualize the decision boundary."
   ]
  },
  {
   "cell_type": "code",
   "execution_count": null,
   "metadata": {},
   "outputs": [],
   "source": [
    "# 9. Evaluate the model on the test set."
   ]
  },
  {
   "cell_type": "markdown",
   "metadata": {},
   "source": [
    "# OneClassSVM\n",
    "1. It is a machine learning algorithm used for __anomaly / novelty detection__.\n",
    "1. The __One-Class SVM__ is a __variation__ of the traditional Support Vector Machine / SVM algorithm.\n",
    "1. It is designed for the specific task of __identifying anomalies or novelties__ in a dataset, particularly in situations where __normal__ data __vastly outnumber anomalies__.\n",
    "1. It is an __unsupervised learning__ method, meaning that is __does not require labeled data for training__.\n",
    "1. It __learns to define a boundary (support)__ around the normal data, making it __suitable__ for cases where __anomalies__ are __rare__ and __difficult__ to obtain.\n",
    "1. Its __primary goal__ is to __classify__ data points as either __\"normal\"__ or __\"anomalous\"__ based on their __proximity__ to the __learned boundary__.\n",
    "1. Any data point that __falls outside__ this boundary is considered as an __outlier__ or __anomaly__."
   ]
  },
  {
   "cell_type": "markdown",
   "metadata": {},
   "source": [
    "# The make_blobs() function\n",
    "1. It is a __```scikit-learn (sklearn)```__ function used for __generating synthetic datasets__ that are typically organized into well-separated clusters.\n",
    "1. The data generated is __pseudo-random__, which means you can __set a random seed__ to __make__ the generation __reproducible__.\n",
    "1. Its input arguments are:\n",
    "    1. __n_samples__: If __integer__, it is the __total number__ of points __equally divided__ among clusters. If __array-like__, each __element__ of the sequence, indicates the __number of samples per cluster__. The default value is 100.\n",
    "    1. __n_features (int)__: The __number of features__ for each sample. The default value is 2.\n",
    "    1. __centers (int)__: The number of centers to generate.\n",
    "    1. __cluster_std (float)__: The standard deviation of the clusters.\n",
    "    1. __center_box__: It is a tuple of float (min, max). The default tuple is (-10.0,10.0). It represents the __bounding box__ for each cluster center, when centers are generated at random.\n",
    "    1. __random_state (int)__: Pass an integer value for __reproducible output across multiple function calls__.\n",
    "1. It __returns__ the generated samples __```X```__ and the integer labels __```y```__ for cluster membership of each sample.\n",
    "\n",
    "A code example is the following:\n",
    "```python\n",
    "x,_=make_blobs(n_samples=200, centers=1,cluster_std=0.5,center_box=(8,8), random_state=42)\n",
    "plt.scatter(x[:,0],x[:,1])\n",
    "plt.show()\n",
    "```"
   ]
  },
  {
   "cell_type": "markdown",
   "metadata": {},
   "source": [
    "# Exercise 2\n",
    "In this exercise we will recognize outliers through an unsupervised algorithm __(One-Class SVM)__:\n",
    "1. Create one cluster of data points consisting of __200 sample points__.\n",
    "1. __Visualize__ this distribution through a __scatterplot__.\n",
    "1. Create a __One Class SVM classifier__ to __predict__ the outliers.\n",
    "1. __Visualize__ the outliers with red color."
   ]
  },
  {
   "cell_type": "code",
   "execution_count": 34,
   "metadata": {},
   "outputs": [],
   "source": [
    "# 1. Create one cluster of data points consisting of 200 sample points.\n",
    "from sklearn.datasets import make_blobs\n",
    "from sklearn.svm import OneClassSVM\n",
    "import matplotlib.pyplot as plt\n",
    "\n",
    "x,_ = make_blobs(n_samples=200, centers=1, cluster_std=0.5, center_box=(-8,8), random_state=42)"
   ]
  },
  {
   "cell_type": "code",
   "execution_count": 35,
   "metadata": {},
   "outputs": [
    {
     "data": {
      "image/png": "[encoded data removed]",
      "text/plain": [
       "<Figure size 300x300 with 1 Axes>"
      ]
     },
     "metadata": {},
     "output_type": "display_data"
    }
   ],
   "source": [
    "# 2. Visualize this distribution through a scatterplot.\n",
    "plt.figure(figsize=(3,3))\n",
    "plt.scatter(x[:, 0], x[:, 1])\n",
    "plt.show()"
   ]
  },
  {
   "cell_type": "code",
   "execution_count": null,
   "metadata": {},
   "outputs": [],
   "source": [
    "# 3. Create a One Class SVM classifier to predict the outliers."
   ]
  },
  {
   "cell_type": "code",
   "execution_count": null,
   "metadata": {},
   "outputs": [],
   "source": [
    "# 4. Visualize the outliers with red color."
   ]
  },
  {
   "cell_type": "markdown",
   "metadata": {},
   "source": [
    "# References\n",
    "__[Dataset loading utilities](https://scikit-learn.org/stable/datasets.html)__\n",
    "<br>\n",
    "__[Support Vector Machines](https://scikit-learn.org/stable/modules/svm.html)__\n",
    "<br>\n",
    "__[The classification_report](https://scikit-learn.org/stable/modules/generated/sklearn.metrics.classification_report.html)__\n",
    "<br>\n",
    "__[The format() method](https://docs.python.org/3/tutorial/inputoutput.html)__ \n",
    "<br>\n",
    "__[GridSearchCV](https://scikit-learn.org/stable/modules/generated/sklearn.model_selection.GridSearchCV.html)__\n",
    "<br>\n",
    "__[OneClassSVM](https://scikit-learn.org/stable/modules/generated/sklearn.svm.OneClassSVM.html)__\n",
    "<br>\n",
    "__[The make_blobs() function](https://scikit-learn.org/stable/modules/generated/sklearn.datasets.make_blobs.html)__\n",
    "<br>\n",
    "__[]()__"
   ]
  },
  {
   "cell_type": "markdown",
   "metadata": {},
   "source": [
    "# Evaluation\n",
    "\n",
    "Please visit the following link for __[Workshop 5 Evaluation](https://app.wooclap.com/PIHHOO?from=event-page)__\n",
    "<br>\n",
    "Tell us your opinion about this workshop and how we could become better in the next one.\n",
    "Your opinion matters!!!)__"
   ]
  },
  {
   "cell_type": "code",
   "execution_count": null,
   "metadata": {},
   "outputs": [],
   "source": []
  }
 ],
 "metadata": {
  "kernelspec": {
   "display_name": "Python 3 (ipykernel)",
   "language": "python",
   "name": "python3"
  },
  "language_info": {
   "codemirror_mode": {
    "name": "ipython",
    "version": 3
   },
   "file_extension": ".py",
   "mimetype": "text/x-python",
   "name": "python",
   "nbconvert_exporter": "python",
   "pygments_lexer": "ipython3",
   "version": "3.11.4"
  }
 },
 "nbformat": 4,
 "nbformat_minor": 4
}
